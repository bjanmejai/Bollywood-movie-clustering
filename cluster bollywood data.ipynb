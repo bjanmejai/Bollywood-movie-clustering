{
 "cells": [
  {
   "cell_type": "markdown",
   "metadata": {},
   "source": [
    "## Bollywood Data Clustering Project using python"
   ]
  },
  {
   "cell_type": "markdown",
   "metadata": {},
   "source": [
    "Clustering is very much important as it determines the intrinsic grouping among the unlabeled data present. There are no criteria for a good clustering. It depends on the user, what is the criteria they may use which satisfy their need. For instance, we could be interested in finding representatives for homogeneous groups (data reduction), in finding “natural clusters” and describe their unknown properties (“natural” data types), in finding useful and suitable groupings (“useful” data classes) or in finding unusual data objects (outlier detection). This algorithm must make some assumptions which constitute the similarity of points and each assumption make different and equally valid clusters.\n",
    "\n",
    "The dataset is available at wiley india store at the below link:\n",
    "\n",
    "https://www.wileyindia.com/machine-learning-using-python.html\n",
    "\n"
   ]
  },
  {
   "cell_type": "code",
   "execution_count": 42,
   "metadata": {},
   "outputs": [],
   "source": [
    " # Import all these libraries we need to work with\n",
    "import pandas as pd\n",
    "import sklearn\n",
    "import seaborn as sb\n",
    "import matplotlib.pyplot as plt\n",
    "%matplotlib inline"
   ]
  },
  {
   "cell_type": "markdown",
   "metadata": {},
   "source": [
    "Let's get a peek of Bollywood movies  the dataset"
   ]
  },
  {
   "cell_type": "code",
   "execution_count": 43,
   "metadata": {},
   "outputs": [
    {
     "data": {
      "text/html": [
       "<div>\n",
       "<style scoped>\n",
       "    .dataframe tbody tr th:only-of-type {\n",
       "        vertical-align: middle;\n",
       "    }\n",
       "\n",
       "    .dataframe tbody tr th {\n",
       "        vertical-align: top;\n",
       "    }\n",
       "\n",
       "    .dataframe thead th {\n",
       "        text-align: right;\n",
       "    }\n",
       "</style>\n",
       "<table border=\"1\" class=\"dataframe\">\n",
       "  <thead>\n",
       "    <tr style=\"text-align: right;\">\n",
       "      <th></th>\n",
       "      <th>Movie_Name</th>\n",
       "      <th>Box_Office_Collection</th>\n",
       "      <th>Profit</th>\n",
       "      <th>Earning_Ratio</th>\n",
       "      <th>Budget</th>\n",
       "      <th>Youtube_Views</th>\n",
       "      <th>Youtube_Likes</th>\n",
       "      <th>Youtube_Dislikes</th>\n",
       "    </tr>\n",
       "  </thead>\n",
       "  <tbody>\n",
       "    <tr>\n",
       "      <th>0</th>\n",
       "      <td>Hate Story 2</td>\n",
       "      <td>27</td>\n",
       "      <td>15</td>\n",
       "      <td>2.30</td>\n",
       "      <td>12</td>\n",
       "      <td>13798789</td>\n",
       "      <td>15708</td>\n",
       "      <td>5226</td>\n",
       "    </tr>\n",
       "    <tr>\n",
       "      <th>1</th>\n",
       "      <td>Alone</td>\n",
       "      <td>25</td>\n",
       "      <td>7</td>\n",
       "      <td>1.39</td>\n",
       "      <td>18</td>\n",
       "      <td>8788913</td>\n",
       "      <td>18907</td>\n",
       "      <td>2940</td>\n",
       "    </tr>\n",
       "    <tr>\n",
       "      <th>2</th>\n",
       "      <td>Zid</td>\n",
       "      <td>14</td>\n",
       "      <td>-6</td>\n",
       "      <td>0.70</td>\n",
       "      <td>20</td>\n",
       "      <td>6698987</td>\n",
       "      <td>6750</td>\n",
       "      <td>2234</td>\n",
       "    </tr>\n",
       "    <tr>\n",
       "      <th>3</th>\n",
       "      <td>NH10</td>\n",
       "      <td>32</td>\n",
       "      <td>19</td>\n",
       "      <td>2.47</td>\n",
       "      <td>13</td>\n",
       "      <td>5592977</td>\n",
       "      <td>15464</td>\n",
       "      <td>1513</td>\n",
       "    </tr>\n",
       "    <tr>\n",
       "      <th>4</th>\n",
       "      <td>Happy Ending</td>\n",
       "      <td>22</td>\n",
       "      <td>-27</td>\n",
       "      <td>0.45</td>\n",
       "      <td>48</td>\n",
       "      <td>5192338</td>\n",
       "      <td>6928</td>\n",
       "      <td>1120</td>\n",
       "    </tr>\n",
       "  </tbody>\n",
       "</table>\n",
       "</div>"
      ],
      "text/plain": [
       "     Movie_Name  Box_Office_Collection  Profit  Earning_Ratio  Budget  \\\n",
       "0  Hate Story 2                     27      15           2.30      12   \n",
       "1         Alone                     25       7           1.39      18   \n",
       "2           Zid                     14      -6           0.70      20   \n",
       "3          NH10                     32      19           2.47      13   \n",
       "4  Happy Ending                     22     -27           0.45      48   \n",
       "\n",
       "   Youtube_Views  Youtube_Likes  Youtube_Dislikes  \n",
       "0       13798789          15708              5226  \n",
       "1        8788913          18907              2940  \n",
       "2        6698987           6750              2234  \n",
       "3        5592977          15464              1513  \n",
       "4        5192338           6928              1120  "
      ]
     },
     "execution_count": 43,
     "metadata": {},
     "output_type": "execute_result"
    }
   ],
   "source": [
    "# read data from excel file\n",
    "df = pd.read_excel(r'E:\\business analytics\\DATA FILES 27-07-2017\\Chapter 14 Data\\Bollywood-Clustering.xlsx')\n",
    "df.head()"
   ]
  },
  {
   "cell_type": "code",
   "execution_count": 44,
   "metadata": {},
   "outputs": [
    {
     "name": "stdout",
     "output_type": "stream",
     "text": [
      "<class 'pandas.core.frame.DataFrame'>\n",
      "RangeIndex: 149 entries, 0 to 148\n",
      "Data columns (total 8 columns):\n",
      " #   Column                 Non-Null Count  Dtype  \n",
      "---  ------                 --------------  -----  \n",
      " 0   Movie_Name             149 non-null    object \n",
      " 1   Box_Office_Collection  149 non-null    int64  \n",
      " 2   Profit                 149 non-null    int64  \n",
      " 3   Earning_Ratio          149 non-null    float64\n",
      " 4   Budget                 149 non-null    int64  \n",
      " 5   Youtube_Views          149 non-null    int64  \n",
      " 6   Youtube_Likes          149 non-null    int64  \n",
      " 7   Youtube_Dislikes       149 non-null    int64  \n",
      "dtypes: float64(1), int64(6), object(1)\n",
      "memory usage: 9.4+ KB\n"
     ]
    }
   ],
   "source": [
    "df.info()"
   ]
  },
  {
   "cell_type": "code",
   "execution_count": 45,
   "metadata": {},
   "outputs": [],
   "source": [
    "# Convert feature colulmn names to lower case letters\n",
    "df.columns = df.columns.map(str.lower)"
   ]
  },
  {
   "cell_type": "markdown",
   "metadata": {},
   "source": [
    "We have a total of 149 entries for bollywood movies alongwith their KPI's. Profit and collection is expressed in crores."
   ]
  },
  {
   "cell_type": "markdown",
   "metadata": {},
   "source": [
    "K-Means Clustering\n",
    "\n",
    "\n",
    "Let’s suppose that a retail distributer has an online system where local\n",
    "agents enter trading information manually. One of the fields they have\n",
    "to fill in is City. But because this data entry process is manual, people\n",
    "normally tend to make lots of spelling errors. For example, instead of\n",
    "Delhi, people enter Dehi, Dehli, Delly, and so on. You can try to solve\n",
    "this problem using clustering because the number of clusters are already\n",
    "known; in other words, the retailer is aware of how many cities the agents\n",
    "operate in. This is an example of K-means clustering."
   ]
  },
  {
   "cell_type": "markdown",
   "metadata": {},
   "source": [
    "Before creating clusters it is important to bring all the features under same scale of measurement. Hence, all features nedd to be normalised or standardised (Z scores).\n",
    "\n",
    "Remember not to keep the response variable or dependent variable in the dataset,as we are only interested with the features"
   ]
  },
  {
   "cell_type": "code",
   "execution_count": 46,
   "metadata": {},
   "outputs": [],
   "source": [
    "# drop movie names and convert all variables to standardised scale\n",
    "from sklearn.preprocessing import StandardScaler\n",
    "scaler = StandardScaler()\n",
    "\n",
    "scaled_df = scaler.fit_transform(df[['box_office_collection', 'profit', 'earning_ratio',\n",
    "       'budget', 'youtube_views', 'youtube_likes', 'youtube_dislikes']])"
   ]
  },
  {
   "cell_type": "markdown",
   "metadata": {},
   "source": [
    "A Dendogram is cluster tree diagram which groups those entities together that are nearer to each other. It can be drawn using seaborn, as in the below graph"
   ]
  },
  {
   "cell_type": "code",
   "execution_count": 47,
   "metadata": {},
   "outputs": [
    {
     "data": {
      "text/plain": [
       "<seaborn.matrix.ClusterGrid at 0xdf13808>"
      ]
     },
     "execution_count": 47,
     "metadata": {},
     "output_type": "execute_result"
    },
    {
     "data": {
      "image/png": "[encoded data removed]",
      "text/plain": [
       "<Figure size 576x576 with 4 Axes>"
      ]
     },
     "metadata": {
      "needs_background": "light"
     },
     "output_type": "display_data"
    }
   ],
   "source": [
    "cmap = sb.cubehelix_palette(as_cmap=True,rot =-.3,light =1)\n",
    "\n",
    "sb.clustermap(scaled_df,cmap =cmap,linewidth =.2, figsize=(8,8))"
   ]
  },
  {
   "cell_type": "markdown",
   "metadata": {},
   "source": [
    "The tree on the left dendogram represents the relative distance of nodes. For clarification movie number 100 and 102 seems to be very closer, as they are placed near each other.\n",
    "Conversly movie 100 and 138 are extremely dissimilar as the distance between both are very high."
   ]
  },
  {
   "cell_type": "markdown",
   "metadata": {},
   "source": [
    "Let' find out why movies 4 and 102 are veru much similar. We will look at their feature values for this task"
   ]
  },
  {
   "cell_type": "code",
   "execution_count": 48,
   "metadata": {},
   "outputs": [
    {
     "data": {
      "text/html": [
       "<div>\n",
       "<style scoped>\n",
       "    .dataframe tbody tr th:only-of-type {\n",
       "        vertical-align: middle;\n",
       "    }\n",
       "\n",
       "    .dataframe tbody tr th {\n",
       "        vertical-align: top;\n",
       "    }\n",
       "\n",
       "    .dataframe thead th {\n",
       "        text-align: right;\n",
       "    }\n",
       "</style>\n",
       "<table border=\"1\" class=\"dataframe\">\n",
       "  <thead>\n",
       "    <tr style=\"text-align: right;\">\n",
       "      <th></th>\n",
       "      <th>movie_name</th>\n",
       "      <th>box_office_collection</th>\n",
       "      <th>profit</th>\n",
       "      <th>earning_ratio</th>\n",
       "      <th>budget</th>\n",
       "      <th>youtube_views</th>\n",
       "      <th>youtube_likes</th>\n",
       "      <th>youtube_dislikes</th>\n",
       "    </tr>\n",
       "  </thead>\n",
       "  <tbody>\n",
       "    <tr>\n",
       "      <th>4</th>\n",
       "      <td>Happy Ending</td>\n",
       "      <td>22</td>\n",
       "      <td>-27</td>\n",
       "      <td>0.45</td>\n",
       "      <td>48</td>\n",
       "      <td>5192338</td>\n",
       "      <td>6928</td>\n",
       "      <td>1120</td>\n",
       "    </tr>\n",
       "    <tr>\n",
       "      <th>102</th>\n",
       "      <td>Humshakals</td>\n",
       "      <td>64</td>\n",
       "      <td>-11</td>\n",
       "      <td>0.85</td>\n",
       "      <td>75</td>\n",
       "      <td>6280868</td>\n",
       "      <td>1</td>\n",
       "      <td>1</td>\n",
       "    </tr>\n",
       "  </tbody>\n",
       "</table>\n",
       "</div>"
      ],
      "text/plain": [
       "       movie_name  box_office_collection  profit  earning_ratio  budget  \\\n",
       "4    Happy Ending                     22     -27           0.45      48   \n",
       "102    Humshakals                     64     -11           0.85      75   \n",
       "\n",
       "     youtube_views  youtube_likes  youtube_dislikes  \n",
       "4          5192338           6928              1120  \n",
       "102        6280868              1                 1  "
      ]
     },
     "execution_count": 48,
     "metadata": {},
     "output_type": "execute_result"
    }
   ],
   "source": [
    "df.iloc[[4,102]]"
   ]
  },
  {
   "cell_type": "markdown",
   "metadata": {},
   "source": [
    "The above features tell us that both the movies have negative profit, and their respective earning ratio is very close alongwith close number of you tube views .Now we should see relation between movies 138, and 143"
   ]
  },
  {
   "cell_type": "code",
   "execution_count": 49,
   "metadata": {},
   "outputs": [
    {
     "data": {
      "text/html": [
       "<div>\n",
       "<style scoped>\n",
       "    .dataframe tbody tr th:only-of-type {\n",
       "        vertical-align: middle;\n",
       "    }\n",
       "\n",
       "    .dataframe tbody tr th {\n",
       "        vertical-align: top;\n",
       "    }\n",
       "\n",
       "    .dataframe thead th {\n",
       "        text-align: right;\n",
       "    }\n",
       "</style>\n",
       "<table border=\"1\" class=\"dataframe\">\n",
       "  <thead>\n",
       "    <tr style=\"text-align: right;\">\n",
       "      <th></th>\n",
       "      <th>movie_name</th>\n",
       "      <th>box_office_collection</th>\n",
       "      <th>profit</th>\n",
       "      <th>earning_ratio</th>\n",
       "      <th>budget</th>\n",
       "      <th>youtube_views</th>\n",
       "      <th>youtube_likes</th>\n",
       "      <th>youtube_dislikes</th>\n",
       "    </tr>\n",
       "  </thead>\n",
       "  <tbody>\n",
       "    <tr>\n",
       "      <th>138</th>\n",
       "      <td>Grand Masti</td>\n",
       "      <td>298</td>\n",
       "      <td>263</td>\n",
       "      <td>8.51</td>\n",
       "      <td>35</td>\n",
       "      <td>1795640</td>\n",
       "      <td>3015</td>\n",
       "      <td>721</td>\n",
       "    </tr>\n",
       "    <tr>\n",
       "      <th>143</th>\n",
       "      <td>The Lunchbox</td>\n",
       "      <td>85</td>\n",
       "      <td>75</td>\n",
       "      <td>8.50</td>\n",
       "      <td>10</td>\n",
       "      <td>1064854</td>\n",
       "      <td>4054</td>\n",
       "      <td>285</td>\n",
       "    </tr>\n",
       "  </tbody>\n",
       "</table>\n",
       "</div>"
      ],
      "text/plain": [
       "       movie_name  box_office_collection  profit  earning_ratio  budget  \\\n",
       "138   Grand Masti                    298     263           8.51      35   \n",
       "143  The Lunchbox                     85      75           8.50      10   \n",
       "\n",
       "     youtube_views  youtube_likes  youtube_dislikes  \n",
       "138        1795640           3015               721  \n",
       "143        1064854           4054               285  "
      ]
     },
     "execution_count": 49,
     "metadata": {},
     "output_type": "execute_result"
    }
   ],
   "source": [
    "\n",
    "df.iloc[[138,143]]"
   ]
  },
  {
   "cell_type": "markdown",
   "metadata": {},
   "source": [
    "Both the movies has similar or close earning_ratio,youtube_likes,youtube_views"
   ]
  },
  {
   "cell_type": "markdown",
   "metadata": {},
   "source": [
    "Finding optimal number of clusters using Elbow curve method .This method would help us in determining the optimal number of K's we need before running the  Kmeans algorithm. The inertia_ parameterin Kmeans algorithm  provides the total variance for a particular number of clusters."
   ]
  },
  {
   "cell_type": "code",
   "execution_count": 50,
   "metadata": {},
   "outputs": [
    {
     "data": {
      "text/plain": [
       "Text(0.5, 0, \" Number of K's\")"
      ]
     },
     "execution_count": 50,
     "metadata": {},
     "output_type": "execute_result"
    },
    {
     "data": {
      "image/png": "[encoded data removed]",
      "text/plain": [
       "<Figure size 432x288 with 1 Axes>"
      ]
     },
     "metadata": {
      "needs_background": "light"
     },
     "output_type": "display_data"
    }
   ],
   "source": [
    "from sklearn.cluster import KMeans \n",
    "\n",
    "cluster_range = range( 1, 10 )\n",
    "cluster_errors = []\n",
    "\n",
    "for num_clusters in cluster_range:\n",
    "    clusters = KMeans(num_clusters)\n",
    "    clusters.fit( scaled_df )\n",
    "    cluster_errors.append(clusters.inertia_)\n",
    "    \n",
    "plt.figure(figsize=(6,4))\n",
    "plt.plot( cluster_range, cluster_errors, marker = \"o\" );\n",
    "plt.title( \"Elbow Diagram\")\n",
    "plt.xlabel(' Number of K\\'s')"
   ]
  },
  {
   "cell_type": "markdown",
   "metadata": {},
   "source": [
    "The curve indiccates elbow curve is at point 2,which in turn indicates there might be 2 clusters existing in the dataset. Elbow point is aka the point at which the curve starts to bend, and in  our case the line starts to bend at point  at 2 .So the  number of optimal K's is 2."
   ]
  },
  {
   "cell_type": "code",
   "execution_count": 51,
   "metadata": {},
   "outputs": [],
   "source": [
    "k= 3\n",
    "clusters= KMeans(k,random_state =50)\n",
    "\n",
    "clusters.fit(scaled_df)\n",
    "df['clusterid'] =clusters.labels_"
   ]
  },
  {
   "cell_type": "markdown",
   "metadata": {},
   "source": [
    "Cluster centers and interpreting the clusters"
   ]
  },
  {
   "cell_type": "code",
   "execution_count": 52,
   "metadata": {},
   "outputs": [
    {
     "name": "stderr",
     "output_type": "stream",
     "text": [
      "D:\\Anaconda3\\lib\\site-packages\\ipykernel_launcher.py:1: FutureWarning: Indexing with multiple keys (implicitly converted to a tuple of keys) will be deprecated, use a list instead.\n",
      "  \"\"\"Entry point for launching an IPython kernel.\n"
     ]
    },
    {
     "data": {
      "text/html": [
       "<div>\n",
       "<style scoped>\n",
       "    .dataframe tbody tr th:only-of-type {\n",
       "        vertical-align: middle;\n",
       "    }\n",
       "\n",
       "    .dataframe tbody tr th {\n",
       "        vertical-align: top;\n",
       "    }\n",
       "\n",
       "    .dataframe thead tr th {\n",
       "        text-align: left;\n",
       "    }\n",
       "</style>\n",
       "<table border=\"1\" class=\"dataframe\">\n",
       "  <thead>\n",
       "    <tr>\n",
       "      <th></th>\n",
       "      <th>clusterid</th>\n",
       "      <th colspan=\"2\" halign=\"left\">box_office_collection</th>\n",
       "      <th colspan=\"2\" halign=\"left\">profit</th>\n",
       "      <th colspan=\"2\" halign=\"left\">earning_ratio</th>\n",
       "      <th colspan=\"2\" halign=\"left\">budget</th>\n",
       "      <th colspan=\"2\" halign=\"left\">youtube_views</th>\n",
       "      <th colspan=\"2\" halign=\"left\">youtube_likes</th>\n",
       "      <th colspan=\"2\" halign=\"left\">youtube_dislikes</th>\n",
       "    </tr>\n",
       "    <tr>\n",
       "      <th></th>\n",
       "      <th></th>\n",
       "      <th>mean</th>\n",
       "      <th>std</th>\n",
       "      <th>mean</th>\n",
       "      <th>std</th>\n",
       "      <th>mean</th>\n",
       "      <th>std</th>\n",
       "      <th>mean</th>\n",
       "      <th>std</th>\n",
       "      <th>mean</th>\n",
       "      <th>std</th>\n",
       "      <th>mean</th>\n",
       "      <th>std</th>\n",
       "      <th>mean</th>\n",
       "      <th>std</th>\n",
       "    </tr>\n",
       "  </thead>\n",
       "  <tbody>\n",
       "    <tr>\n",
       "      <th>0</th>\n",
       "      <td>0</td>\n",
       "      <td>104.305556</td>\n",
       "      <td>84.075075</td>\n",
       "      <td>63.555556</td>\n",
       "      <td>78.371075</td>\n",
       "      <td>3.510278</td>\n",
       "      <td>2.392035</td>\n",
       "      <td>40.750000</td>\n",
       "      <td>32.553582</td>\n",
       "      <td>5.599548e+06</td>\n",
       "      <td>2.937511e+06</td>\n",
       "      <td>13484.805556</td>\n",
       "      <td>7108.966498</td>\n",
       "      <td>2157.222222</td>\n",
       "      <td>1514.244123</td>\n",
       "    </tr>\n",
       "    <tr>\n",
       "      <th>1</th>\n",
       "      <td>1</td>\n",
       "      <td>427.000000</td>\n",
       "      <td>175.355353</td>\n",
       "      <td>314.000000</td>\n",
       "      <td>191.727671</td>\n",
       "      <td>4.104000</td>\n",
       "      <td>2.593353</td>\n",
       "      <td>113.000000</td>\n",
       "      <td>21.389250</td>\n",
       "      <td>1.554258e+07</td>\n",
       "      <td>6.304946e+06</td>\n",
       "      <td>63300.400000</td>\n",
       "      <td>25318.214112</td>\n",
       "      <td>8839.800000</td>\n",
       "      <td>2705.424126</td>\n",
       "    </tr>\n",
       "    <tr>\n",
       "      <th>2</th>\n",
       "      <td>2</td>\n",
       "      <td>22.333333</td>\n",
       "      <td>22.868580</td>\n",
       "      <td>0.453704</td>\n",
       "      <td>16.193563</td>\n",
       "      <td>1.079907</td>\n",
       "      <td>0.887688</td>\n",
       "      <td>21.805556</td>\n",
       "      <td>17.636230</td>\n",
       "      <td>2.019013e+06</td>\n",
       "      <td>1.496942e+06</td>\n",
       "      <td>3442.574074</td>\n",
       "      <td>3212.739758</td>\n",
       "      <td>538.018519</td>\n",
       "      <td>496.139489</td>\n",
       "    </tr>\n",
       "  </tbody>\n",
       "</table>\n",
       "</div>"
      ],
      "text/plain": [
       "  clusterid box_office_collection                  profit              \\\n",
       "                             mean         std        mean         std   \n",
       "0         0            104.305556   84.075075   63.555556   78.371075   \n",
       "1         1            427.000000  175.355353  314.000000  191.727671   \n",
       "2         2             22.333333   22.868580    0.453704   16.193563   \n",
       "\n",
       "  earning_ratio                budget            youtube_views                \\\n",
       "           mean       std        mean        std          mean           std   \n",
       "0      3.510278  2.392035   40.750000  32.553582  5.599548e+06  2.937511e+06   \n",
       "1      4.104000  2.593353  113.000000  21.389250  1.554258e+07  6.304946e+06   \n",
       "2      1.079907  0.887688   21.805556  17.636230  2.019013e+06  1.496942e+06   \n",
       "\n",
       "  youtube_likes               youtube_dislikes               \n",
       "           mean           std             mean          std  \n",
       "0  13484.805556   7108.966498      2157.222222  1514.244123  \n",
       "1  63300.400000  25318.214112      8839.800000  2705.424126  \n",
       "2   3442.574074   3212.739758       538.018519   496.139489  "
      ]
     },
     "execution_count": 52,
     "metadata": {},
     "output_type": "execute_result"
    }
   ],
   "source": [
    "df.groupby('clusterid')['box_office_collection', 'profit', 'earning_ratio',\n",
    "                        'budget', 'youtube_views', 'youtube_likes',\n",
    "                        'youtube_dislikes'].agg(['mean','std']).reset_index()"
   ]
  },
  {
   "cell_type": "markdown",
   "metadata": {},
   "source": [
    "Cluster 2 mostly contains movies that have mean boxoffice collection of 22 with appx.same variation. This cluster has the lowes earing ratio movies."
   ]
  },
  {
   "cell_type": "markdown",
   "metadata": {},
   "source": [
    "Dataframe for movies that belong to cluster id 0"
   ]
  },
  {
   "cell_type": "code",
   "execution_count": 53,
   "metadata": {},
   "outputs": [
    {
     "data": {
      "text/html": [
       "<div>\n",
       "<style scoped>\n",
       "    .dataframe tbody tr th:only-of-type {\n",
       "        vertical-align: middle;\n",
       "    }\n",
       "\n",
       "    .dataframe tbody tr th {\n",
       "        vertical-align: top;\n",
       "    }\n",
       "\n",
       "    .dataframe thead th {\n",
       "        text-align: right;\n",
       "    }\n",
       "</style>\n",
       "<table border=\"1\" class=\"dataframe\">\n",
       "  <thead>\n",
       "    <tr style=\"text-align: right;\">\n",
       "      <th></th>\n",
       "      <th>movie_name</th>\n",
       "      <th>box_office_collection</th>\n",
       "      <th>profit</th>\n",
       "      <th>earning_ratio</th>\n",
       "      <th>budget</th>\n",
       "      <th>youtube_views</th>\n",
       "      <th>youtube_likes</th>\n",
       "      <th>youtube_dislikes</th>\n",
       "      <th>clusterid</th>\n",
       "    </tr>\n",
       "  </thead>\n",
       "  <tbody>\n",
       "    <tr>\n",
       "      <th>109</th>\n",
       "      <td>Besharam</td>\n",
       "      <td>35</td>\n",
       "      <td>-50</td>\n",
       "      <td>0.41</td>\n",
       "      <td>85</td>\n",
       "      <td>5319606</td>\n",
       "      <td>10253</td>\n",
       "      <td>8165</td>\n",
       "      <td>0</td>\n",
       "    </tr>\n",
       "    <tr>\n",
       "      <th>117</th>\n",
       "      <td>ABCD – Any Body Can Dance</td>\n",
       "      <td>44</td>\n",
       "      <td>32</td>\n",
       "      <td>3.67</td>\n",
       "      <td>12</td>\n",
       "      <td>4042091</td>\n",
       "      <td>10609</td>\n",
       "      <td>788</td>\n",
       "      <td>0</td>\n",
       "    </tr>\n",
       "    <tr>\n",
       "      <th>143</th>\n",
       "      <td>The Lunchbox</td>\n",
       "      <td>85</td>\n",
       "      <td>75</td>\n",
       "      <td>8.50</td>\n",
       "      <td>10</td>\n",
       "      <td>1064854</td>\n",
       "      <td>4054</td>\n",
       "      <td>285</td>\n",
       "      <td>0</td>\n",
       "    </tr>\n",
       "    <tr>\n",
       "      <th>107</th>\n",
       "      <td>Khoobsurat</td>\n",
       "      <td>39</td>\n",
       "      <td>27</td>\n",
       "      <td>3.28</td>\n",
       "      <td>12</td>\n",
       "      <td>5454349</td>\n",
       "      <td>12548</td>\n",
       "      <td>2038</td>\n",
       "      <td>0</td>\n",
       "    </tr>\n",
       "    <tr>\n",
       "      <th>108</th>\n",
       "      <td>Ragini MMS 2</td>\n",
       "      <td>50</td>\n",
       "      <td>32</td>\n",
       "      <td>2.78</td>\n",
       "      <td>18</td>\n",
       "      <td>5416213</td>\n",
       "      <td>6807</td>\n",
       "      <td>2717</td>\n",
       "      <td>0</td>\n",
       "    </tr>\n",
       "  </tbody>\n",
       "</table>\n",
       "</div>"
      ],
      "text/plain": [
       "                    movie_name  box_office_collection  profit  earning_ratio  \\\n",
       "109                   Besharam                     35     -50           0.41   \n",
       "117  ABCD – Any Body Can Dance                     44      32           3.67   \n",
       "143               The Lunchbox                     85      75           8.50   \n",
       "107                 Khoobsurat                     39      27           3.28   \n",
       "108               Ragini MMS 2                     50      32           2.78   \n",
       "\n",
       "     budget  youtube_views  youtube_likes  youtube_dislikes  clusterid  \n",
       "109      85        5319606          10253              8165          0  \n",
       "117      12        4042091          10609               788          0  \n",
       "143      10        1064854           4054               285          0  \n",
       "107      12        5454349          12548              2038          0  \n",
       "108      18        5416213           6807              2717          0  "
      ]
     },
     "execution_count": 53,
     "metadata": {},
     "output_type": "execute_result"
    }
   ],
   "source": [
    "c_0= df[df['clusterid']==0]\n",
    "c_0.sample(5)"
   ]
  },
  {
   "cell_type": "markdown",
   "metadata": {},
   "source": [
    "Dataframe for movies that belong to cluster id 1"
   ]
  },
  {
   "cell_type": "code",
   "execution_count": 54,
   "metadata": {},
   "outputs": [
    {
     "data": {
      "text/html": [
       "<div>\n",
       "<style scoped>\n",
       "    .dataframe tbody tr th:only-of-type {\n",
       "        vertical-align: middle;\n",
       "    }\n",
       "\n",
       "    .dataframe tbody tr th {\n",
       "        vertical-align: top;\n",
       "    }\n",
       "\n",
       "    .dataframe thead th {\n",
       "        text-align: right;\n",
       "    }\n",
       "</style>\n",
       "<table border=\"1\" class=\"dataframe\">\n",
       "  <thead>\n",
       "    <tr style=\"text-align: right;\">\n",
       "      <th></th>\n",
       "      <th>movie_name</th>\n",
       "      <th>box_office_collection</th>\n",
       "      <th>profit</th>\n",
       "      <th>earning_ratio</th>\n",
       "      <th>budget</th>\n",
       "      <th>youtube_views</th>\n",
       "      <th>youtube_likes</th>\n",
       "      <th>youtube_dislikes</th>\n",
       "      <th>clusterid</th>\n",
       "    </tr>\n",
       "  </thead>\n",
       "  <tbody>\n",
       "    <tr>\n",
       "      <th>86</th>\n",
       "      <td>Krrish 3</td>\n",
       "      <td>300</td>\n",
       "      <td>185</td>\n",
       "      <td>2.61</td>\n",
       "      <td>115</td>\n",
       "      <td>23171067</td>\n",
       "      <td>72070</td>\n",
       "      <td>11888</td>\n",
       "      <td>1</td>\n",
       "    </tr>\n",
       "    <tr>\n",
       "      <th>100</th>\n",
       "      <td>Happy New Year</td>\n",
       "      <td>383</td>\n",
       "      <td>258</td>\n",
       "      <td>3.06</td>\n",
       "      <td>125</td>\n",
       "      <td>6395202</td>\n",
       "      <td>37585</td>\n",
       "      <td>10269</td>\n",
       "      <td>1</td>\n",
       "    </tr>\n",
       "    <tr>\n",
       "      <th>88</th>\n",
       "      <td>Bang Bang</td>\n",
       "      <td>340</td>\n",
       "      <td>200</td>\n",
       "      <td>2.43</td>\n",
       "      <td>140</td>\n",
       "      <td>15889811</td>\n",
       "      <td>61805</td>\n",
       "      <td>6283</td>\n",
       "      <td>1</td>\n",
       "    </tr>\n",
       "    <tr>\n",
       "      <th>90</th>\n",
       "      <td>PK</td>\n",
       "      <td>735</td>\n",
       "      <td>650</td>\n",
       "      <td>8.65</td>\n",
       "      <td>85</td>\n",
       "      <td>13270623</td>\n",
       "      <td>43767</td>\n",
       "      <td>5693</td>\n",
       "      <td>1</td>\n",
       "    </tr>\n",
       "    <tr>\n",
       "      <th>87</th>\n",
       "      <td>Kick</td>\n",
       "      <td>377</td>\n",
       "      <td>277</td>\n",
       "      <td>3.77</td>\n",
       "      <td>100</td>\n",
       "      <td>18986221</td>\n",
       "      <td>101275</td>\n",
       "      <td>10066</td>\n",
       "      <td>1</td>\n",
       "    </tr>\n",
       "  </tbody>\n",
       "</table>\n",
       "</div>"
      ],
      "text/plain": [
       "         movie_name  box_office_collection  profit  earning_ratio  budget  \\\n",
       "86         Krrish 3                    300     185           2.61     115   \n",
       "100  Happy New Year                    383     258           3.06     125   \n",
       "88        Bang Bang                    340     200           2.43     140   \n",
       "90               PK                    735     650           8.65      85   \n",
       "87             Kick                    377     277           3.77     100   \n",
       "\n",
       "     youtube_views  youtube_likes  youtube_dislikes  clusterid  \n",
       "86        23171067          72070             11888          1  \n",
       "100        6395202          37585             10269          1  \n",
       "88        15889811          61805              6283          1  \n",
       "90        13270623          43767              5693          1  \n",
       "87        18986221         101275             10066          1  "
      ]
     },
     "execution_count": 54,
     "metadata": {},
     "output_type": "execute_result"
    }
   ],
   "source": [
    "c_1= df[df['clusterid']==1]\n",
    "c_1.sample(5)"
   ]
  },
  {
   "cell_type": "markdown",
   "metadata": {},
   "source": [
    "Dataframe for movies that belong to cluster id 2"
   ]
  },
  {
   "cell_type": "code",
   "execution_count": 55,
   "metadata": {},
   "outputs": [
    {
     "data": {
      "text/html": [
       "<div>\n",
       "<style scoped>\n",
       "    .dataframe tbody tr th:only-of-type {\n",
       "        vertical-align: middle;\n",
       "    }\n",
       "\n",
       "    .dataframe tbody tr th {\n",
       "        vertical-align: top;\n",
       "    }\n",
       "\n",
       "    .dataframe thead th {\n",
       "        text-align: right;\n",
       "    }\n",
       "</style>\n",
       "<table border=\"1\" class=\"dataframe\">\n",
       "  <thead>\n",
       "    <tr style=\"text-align: right;\">\n",
       "      <th></th>\n",
       "      <th>movie_name</th>\n",
       "      <th>box_office_collection</th>\n",
       "      <th>profit</th>\n",
       "      <th>earning_ratio</th>\n",
       "      <th>budget</th>\n",
       "      <th>youtube_views</th>\n",
       "      <th>youtube_likes</th>\n",
       "      <th>youtube_dislikes</th>\n",
       "      <th>clusterid</th>\n",
       "    </tr>\n",
       "  </thead>\n",
       "  <tbody>\n",
       "    <tr>\n",
       "      <th>124</th>\n",
       "      <td>Queen</td>\n",
       "      <td>61</td>\n",
       "      <td>36</td>\n",
       "      <td>2.44</td>\n",
       "      <td>25</td>\n",
       "      <td>2981381</td>\n",
       "      <td>5339</td>\n",
       "      <td>443</td>\n",
       "      <td>2</td>\n",
       "    </tr>\n",
       "    <tr>\n",
       "      <th>5</th>\n",
       "      <td>Phata Poster Nikla Hero</td>\n",
       "      <td>34</td>\n",
       "      <td>-6</td>\n",
       "      <td>0.85</td>\n",
       "      <td>40</td>\n",
       "      <td>5176897</td>\n",
       "      <td>10672</td>\n",
       "      <td>1392</td>\n",
       "      <td>2</td>\n",
       "    </tr>\n",
       "    <tr>\n",
       "      <th>9</th>\n",
       "      <td>Go Goa Gone</td>\n",
       "      <td>28</td>\n",
       "      <td>12</td>\n",
       "      <td>1.76</td>\n",
       "      <td>16</td>\n",
       "      <td>4321162</td>\n",
       "      <td>10126</td>\n",
       "      <td>964</td>\n",
       "      <td>2</td>\n",
       "    </tr>\n",
       "    <tr>\n",
       "      <th>11</th>\n",
       "      <td>Lekar Hum Deewana Dil</td>\n",
       "      <td>3</td>\n",
       "      <td>-14</td>\n",
       "      <td>0.16</td>\n",
       "      <td>16</td>\n",
       "      <td>3998331</td>\n",
       "      <td>2307</td>\n",
       "      <td>497</td>\n",
       "      <td>2</td>\n",
       "    </tr>\n",
       "    <tr>\n",
       "      <th>13</th>\n",
       "      <td>Gori Tere Pyaar Mein</td>\n",
       "      <td>13</td>\n",
       "      <td>-17</td>\n",
       "      <td>0.42</td>\n",
       "      <td>30</td>\n",
       "      <td>3799253</td>\n",
       "      <td>8559</td>\n",
       "      <td>1871</td>\n",
       "      <td>2</td>\n",
       "    </tr>\n",
       "  </tbody>\n",
       "</table>\n",
       "</div>"
      ],
      "text/plain": [
       "                  movie_name  box_office_collection  profit  earning_ratio  \\\n",
       "124                    Queen                     61      36           2.44   \n",
       "5    Phata Poster Nikla Hero                     34      -6           0.85   \n",
       "9                Go Goa Gone                     28      12           1.76   \n",
       "11     Lekar Hum Deewana Dil                      3     -14           0.16   \n",
       "13      Gori Tere Pyaar Mein                     13     -17           0.42   \n",
       "\n",
       "     budget  youtube_views  youtube_likes  youtube_dislikes  clusterid  \n",
       "124      25        2981381           5339               443          2  \n",
       "5        40        5176897          10672              1392          2  \n",
       "9        16        4321162          10126               964          2  \n",
       "11       16        3998331           2307               497          2  \n",
       "13       30        3799253           8559              1871          2  "
      ]
     },
     "execution_count": 55,
     "metadata": {},
     "output_type": "execute_result"
    }
   ],
   "source": [
    "c_2 = df[df['clusterid']==2]\n",
    "c_2.sample(5)"
   ]
  },
  {
   "cell_type": "markdown",
   "metadata": {},
   "source": [
    "Clustering is unsupervised learning algorithm that divides the dataset into mutually exclusive and non overlapping clusters that are homogenous withing groups and heterogenous between groups.\n",
    "\n",
    "Distance measures used fo rclustering are euclidia distance, cosine similarity . Jaccard coefficient is used for nominal or qualitative data only, where as grower's similarity is used for mixed data.\n",
    "\n",
    "KMeans clustering, hierarchial clustering, and DBScan are three popular techniques for clustering datasets.\n",
    "\n",
    "The major decision for any data analyst before applying clustering is to decide on the number of K's or clusters apriori. Usually this is carried out using Elbow curve method.\n",
    "\n",
    "I hope you enjoyed this simple yet insightful project on clustering. \n"
   ]
  },
  {
   "cell_type": "code",
   "execution_count": null,
   "metadata": {},
   "outputs": [],
   "source": []
  }
 ],
 "metadata": {
  "kernelspec": {
   "display_name": "Python 3",
   "language": "python",
   "name": "python3"
  },
  "language_info": {
   "codemirror_mode": {
    "name": "ipython",
    "version": 3
   },
   "file_extension": ".py",
   "mimetype": "text/x-python",
   "name": "python",
   "nbconvert_exporter": "python",
   "pygments_lexer": "ipython3",
   "version": "3.7.1"
  }
 },
 "nbformat": 4,
 "nbformat_minor": 4
}
